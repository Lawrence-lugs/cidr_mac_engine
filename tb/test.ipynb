{
 "cells": [
  {
   "cell_type": "code",
   "execution_count": 9,
   "metadata": {},
   "outputs": [],
   "source": [
    "import numpy as np\n",
    "\n",
    "actBits = 8\n",
    "weightBits = 8\n",
    "\n",
    "weightH = 3\n",
    "weightW = 3\n",
    "\n",
    "nTestVectors = 50\n",
    "\n",
    "# Create random integer array between [0,2^4) of shape (50,8)\n",
    "acts = np.random.randint(0,2**actBits,(nTestVectors,weightH))\n",
    "\n",
    "# Create random integer array between [0,2^1) of shape (8,8)  \n",
    "weights = np.random.randint(0,2**weightBits,(weightH,weightW))\n",
    "\n",
    "# Matmul Acts X Weights\n",
    "outs = acts @ weights"
   ]
  },
  {
   "cell_type": "code",
   "execution_count": 11,
   "metadata": {},
   "outputs": [],
   "source": [
    "np.savetxt(\"./mvm/acts.csv\",acts,'%i')\n",
    "np.savetxt(\"./mvm/outs.csv\",outs,'%i')\n",
    "np.savetxt(\"./mvm/weights.csv\",weights,'%i')"
   ]
  }
 ],
 "metadata": {
  "kernelspec": {
   "display_name": "ic_dec",
   "language": "python",
   "name": "python3"
  },
  "language_info": {
   "codemirror_mode": {
    "name": "ipython",
    "version": 3
   },
   "file_extension": ".py",
   "mimetype": "text/x-python",
   "name": "python",
   "nbconvert_exporter": "python",
   "pygments_lexer": "ipython3",
   "version": "3.12.2"
  }
 },
 "nbformat": 4,
 "nbformat_minor": 2
}
